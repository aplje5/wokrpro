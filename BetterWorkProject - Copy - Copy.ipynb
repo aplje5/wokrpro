{
 "cells": [
  {
   "cell_type": "code",
   "execution_count": 59,
   "metadata": {},
   "outputs": [],
   "source": [
    "import pandas as pd\n",
    "\n",
    "# Path to your Excel file\n",
    "excel_file = r'C:\\Users\\lopez\\OneDrive\\Desktop\\WORKPROJECTS\\DetalleManiobraProject\\DETALLE MANIOBRAS HISTORICO.xlsx'\n",
    "\n",
    "# Specify sheet names\n",
    "sheet_names = ['1A-1D', '2A-2D', '3A-3D']\n",
    "\n",
    "# Read all sheets into a dictionary of DataFrames\n",
    "dfs = pd.read_excel(excel_file, sheet_name=sheet_names)\n",
    "df_columnas = ['ASSET', 'PROYECTO', 'POZO', 'INTERVENCION_ID', 'FECHA', 'PROGRAMA_ID', 'TIPOPROGRAMA', 'FECHAINIPROG', 'FECHAFINPROG', 'NROPD', 'FECHAPD', 'HORAINIMANIONBRA', 'HORAFINMANIONBRA', 'MANIOBRA', 'MANDRIL', 'QPOZO', 'PPOZO', 'TIPO_MANIOBRA']\n",
    "#maniobra_elements = ['Pesca Valvula con Resultado / Positivo', 'Coloca Valvula con Resultado / Positivo']\n",
    "#TPrograma_elements = ['Regulación Válvulas / Liberación de válvulas']\n",
    "\n",
    "\n",
    "\n",
    "def delta_qp(df):\n",
    "    maniobra_elements = ['Pesca Valvula con Resultado / Positivo', 'Coloca Valvula con Resultado / Positivo']\n",
    "    TPrograma_elements = ['Regulación Válvulas / Liberación de válvulas']\n",
    "    df_filtered = df[df['MANIOBRA'].isin(maniobra_elements) & df['TIPOPROGRAMA'].isin(TPrograma_elements)]\n",
    "    df_aggregated = df_filtered.groupby(['ASSET','PROYECTO','INTERVENCION_ID','PROGRAMA_ID','FECHA','POZO','FECHAINIPROG', 'FECHAFINPROG', 'MANDRIL', 'MANIOBRA'])[['QPOZO','PPOZO']].sum().reset_index()\n",
    "    df_qpozo_pivot = df_aggregated.pivot_table(index=['ASSET','PROYECTO','INTERVENCION_ID','PROGRAMA_ID', 'FECHA', 'POZO', 'FECHAINIPROG', 'FECHAFINPROG','MANDRIL'], columns='MANIOBRA', values='QPOZO').reset_index()\n",
    "    df_ppozo_pivot = df_aggregated.pivot_table(index=['ASSET','PROYECTO','INTERVENCION_ID','PROGRAMA_ID', 'FECHA', 'POZO', 'FECHAINIPROG', 'FECHAFINPROG','MANDRIL'], columns='MANIOBRA', values='PPOZO').reset_index()\n",
    "    \n",
    "    df_pivot  = pd.merge(df_qpozo_pivot, df_ppozo_pivot, on=['ASSET','PROYECTO','INTERVENCION_ID','PROGRAMA_ID', 'FECHA', 'POZO','FECHAINIPROG', 'FECHAFINPROG', 'MANDRIL'], suffixes=('_QPOZO', '_PPOZO'))\n",
    "    \n",
    "    df_pivot['DeltaQ'] = df_pivot['Pesca Valvula con Resultado / Positivo_QPOZO'] - df_pivot['Coloca Valvula con Resultado / Positivo_QPOZO']\n",
    "    df_pivot['DeltaP'] = df_pivot['Coloca Valvula con Resultado / Positivo_PPOZO'] - df_pivot['Pesca Valvula con Resultado / Positivo_PPOZO']\n",
    "    df_pivot = df_pivot.dropna(subset=['DeltaQ'])\n",
    "\n",
    "    return df_pivot\n",
    "\n",
    "\n",
    "processed_dfs = {sheet: delta_qp(df) for sheet, df in dfs.items()}\n",
    "\n",
    "df_1AD = processed_dfs['1A-1D']\n",
    "df_2D = processed_dfs['2A-2D']\n",
    "df_3D = processed_dfs['3A-3D']\n",
    "\n",
    "df_1AD.to_csv('1AD', index=False)\n",
    "df_2D.to_csv('2AD', index=False)\n",
    "df_3D.to_csv('3AD', index=False)\n",
    "\n",
    "\n"
   ]
  },
  {
   "cell_type": "code",
   "execution_count": 60,
   "metadata": {},
   "outputs": [
    {
     "name": "stdout",
     "output_type": "stream",
     "text": [
      "Select a sheet:\n",
      "1. 1A-1D\n",
      "2. 2A-2D\n",
      "3. 3A-3D\n"
     ]
    },
    {
     "data": {
      "application/vnd.plotly.v1+json": {
       "config": {
        "plotlyServerURL": "https://plot.ly"
       },
       "data": [
        {
         "alignmentgroup": "True",
         "hovertemplate": "Mandril #=%{x}<br>Count=%{y}<extra></extra>",
         "legendgroup": "",
         "marker": {
          "color": "#636efa",
          "pattern": {
           "shape": ""
          }
         },
         "name": "",
         "offsetgroup": "",
         "orientation": "v",
         "showlegend": false,
         "textposition": "auto",
         "type": "bar",
         "x": [
          1,
          2,
          3,
          4,
          5,
          6,
          7,
          8,
          9,
          10,
          11,
          12
         ],
         "xaxis": "x",
         "y": [
          16,
          15,
          15,
          18,
          15,
          16,
          10,
          13,
          10,
          15,
          13,
          14
         ],
         "yaxis": "y"
        }
       ],
       "layout": {
        "barmode": "relative",
        "legend": {
         "tracegroupgap": 0
        },
        "showlegend": false,
        "template": {
         "data": {
          "bar": [
           {
            "error_x": {
             "color": "#2a3f5f"
            },
            "error_y": {
             "color": "#2a3f5f"
            },
            "marker": {
             "line": {
              "color": "#E5ECF6",
              "width": 0.5
             },
             "pattern": {
              "fillmode": "overlay",
              "size": 10,
              "solidity": 0.2
             }
            },
            "type": "bar"
           }
          ],
          "barpolar": [
           {
            "marker": {
             "line": {
              "color": "#E5ECF6",
              "width": 0.5
             },
             "pattern": {
              "fillmode": "overlay",
              "size": 10,
              "solidity": 0.2
             }
            },
            "type": "barpolar"
           }
          ],
          "carpet": [
           {
            "aaxis": {
             "endlinecolor": "#2a3f5f",
             "gridcolor": "white",
             "linecolor": "white",
             "minorgridcolor": "white",
             "startlinecolor": "#2a3f5f"
            },
            "baxis": {
             "endlinecolor": "#2a3f5f",
             "gridcolor": "white",
             "linecolor": "white",
             "minorgridcolor": "white",
             "startlinecolor": "#2a3f5f"
            },
            "type": "carpet"
           }
          ],
          "choropleth": [
           {
            "colorbar": {
             "outlinewidth": 0,
             "ticks": ""
            },
            "type": "choropleth"
           }
          ],
          "contour": [
           {
            "colorbar": {
             "outlinewidth": 0,
             "ticks": ""
            },
            "colorscale": [
             [
              0,
              "#0d0887"
             ],
             [
              0.1111111111111111,
              "#46039f"
             ],
             [
              0.2222222222222222,
              "#7201a8"
             ],
             [
              0.3333333333333333,
              "#9c179e"
             ],
             [
              0.4444444444444444,
              "#bd3786"
             ],
             [
              0.5555555555555556,
              "#d8576b"
             ],
             [
              0.6666666666666666,
              "#ed7953"
             ],
             [
              0.7777777777777778,
              "#fb9f3a"
             ],
             [
              0.8888888888888888,
              "#fdca26"
             ],
             [
              1,
              "#f0f921"
             ]
            ],
            "type": "contour"
           }
          ],
          "contourcarpet": [
           {
            "colorbar": {
             "outlinewidth": 0,
             "ticks": ""
            },
            "type": "contourcarpet"
           }
          ],
          "heatmap": [
           {
            "colorbar": {
             "outlinewidth": 0,
             "ticks": ""
            },
            "colorscale": [
             [
              0,
              "#0d0887"
             ],
             [
              0.1111111111111111,
              "#46039f"
             ],
             [
              0.2222222222222222,
              "#7201a8"
             ],
             [
              0.3333333333333333,
              "#9c179e"
             ],
             [
              0.4444444444444444,
              "#bd3786"
             ],
             [
              0.5555555555555556,
              "#d8576b"
             ],
             [
              0.6666666666666666,
              "#ed7953"
             ],
             [
              0.7777777777777778,
              "#fb9f3a"
             ],
             [
              0.8888888888888888,
              "#fdca26"
             ],
             [
              1,
              "#f0f921"
             ]
            ],
            "type": "heatmap"
           }
          ],
          "heatmapgl": [
           {
            "colorbar": {
             "outlinewidth": 0,
             "ticks": ""
            },
            "colorscale": [
             [
              0,
              "#0d0887"
             ],
             [
              0.1111111111111111,
              "#46039f"
             ],
             [
              0.2222222222222222,
              "#7201a8"
             ],
             [
              0.3333333333333333,
              "#9c179e"
             ],
             [
              0.4444444444444444,
              "#bd3786"
             ],
             [
              0.5555555555555556,
              "#d8576b"
             ],
             [
              0.6666666666666666,
              "#ed7953"
             ],
             [
              0.7777777777777778,
              "#fb9f3a"
             ],
             [
              0.8888888888888888,
              "#fdca26"
             ],
             [
              1,
              "#f0f921"
             ]
            ],
            "type": "heatmapgl"
           }
          ],
          "histogram": [
           {
            "marker": {
             "pattern": {
              "fillmode": "overlay",
              "size": 10,
              "solidity": 0.2
             }
            },
            "type": "histogram"
           }
          ],
          "histogram2d": [
           {
            "colorbar": {
             "outlinewidth": 0,
             "ticks": ""
            },
            "colorscale": [
             [
              0,
              "#0d0887"
             ],
             [
              0.1111111111111111,
              "#46039f"
             ],
             [
              0.2222222222222222,
              "#7201a8"
             ],
             [
              0.3333333333333333,
              "#9c179e"
             ],
             [
              0.4444444444444444,
              "#bd3786"
             ],
             [
              0.5555555555555556,
              "#d8576b"
             ],
             [
              0.6666666666666666,
              "#ed7953"
             ],
             [
              0.7777777777777778,
              "#fb9f3a"
             ],
             [
              0.8888888888888888,
              "#fdca26"
             ],
             [
              1,
              "#f0f921"
             ]
            ],
            "type": "histogram2d"
           }
          ],
          "histogram2dcontour": [
           {
            "colorbar": {
             "outlinewidth": 0,
             "ticks": ""
            },
            "colorscale": [
             [
              0,
              "#0d0887"
             ],
             [
              0.1111111111111111,
              "#46039f"
             ],
             [
              0.2222222222222222,
              "#7201a8"
             ],
             [
              0.3333333333333333,
              "#9c179e"
             ],
             [
              0.4444444444444444,
              "#bd3786"
             ],
             [
              0.5555555555555556,
              "#d8576b"
             ],
             [
              0.6666666666666666,
              "#ed7953"
             ],
             [
              0.7777777777777778,
              "#fb9f3a"
             ],
             [
              0.8888888888888888,
              "#fdca26"
             ],
             [
              1,
              "#f0f921"
             ]
            ],
            "type": "histogram2dcontour"
           }
          ],
          "mesh3d": [
           {
            "colorbar": {
             "outlinewidth": 0,
             "ticks": ""
            },
            "type": "mesh3d"
           }
          ],
          "parcoords": [
           {
            "line": {
             "colorbar": {
              "outlinewidth": 0,
              "ticks": ""
             }
            },
            "type": "parcoords"
           }
          ],
          "pie": [
           {
            "automargin": true,
            "type": "pie"
           }
          ],
          "scatter": [
           {
            "fillpattern": {
             "fillmode": "overlay",
             "size": 10,
             "solidity": 0.2
            },
            "type": "scatter"
           }
          ],
          "scatter3d": [
           {
            "line": {
             "colorbar": {
              "outlinewidth": 0,
              "ticks": ""
             }
            },
            "marker": {
             "colorbar": {
              "outlinewidth": 0,
              "ticks": ""
             }
            },
            "type": "scatter3d"
           }
          ],
          "scattercarpet": [
           {
            "marker": {
             "colorbar": {
              "outlinewidth": 0,
              "ticks": ""
             }
            },
            "type": "scattercarpet"
           }
          ],
          "scattergeo": [
           {
            "marker": {
             "colorbar": {
              "outlinewidth": 0,
              "ticks": ""
             }
            },
            "type": "scattergeo"
           }
          ],
          "scattergl": [
           {
            "marker": {
             "colorbar": {
              "outlinewidth": 0,
              "ticks": ""
             }
            },
            "type": "scattergl"
           }
          ],
          "scattermapbox": [
           {
            "marker": {
             "colorbar": {
              "outlinewidth": 0,
              "ticks": ""
             }
            },
            "type": "scattermapbox"
           }
          ],
          "scatterpolar": [
           {
            "marker": {
             "colorbar": {
              "outlinewidth": 0,
              "ticks": ""
             }
            },
            "type": "scatterpolar"
           }
          ],
          "scatterpolargl": [
           {
            "marker": {
             "colorbar": {
              "outlinewidth": 0,
              "ticks": ""
             }
            },
            "type": "scatterpolargl"
           }
          ],
          "scatterternary": [
           {
            "marker": {
             "colorbar": {
              "outlinewidth": 0,
              "ticks": ""
             }
            },
            "type": "scatterternary"
           }
          ],
          "surface": [
           {
            "colorbar": {
             "outlinewidth": 0,
             "ticks": ""
            },
            "colorscale": [
             [
              0,
              "#0d0887"
             ],
             [
              0.1111111111111111,
              "#46039f"
             ],
             [
              0.2222222222222222,
              "#7201a8"
             ],
             [
              0.3333333333333333,
              "#9c179e"
             ],
             [
              0.4444444444444444,
              "#bd3786"
             ],
             [
              0.5555555555555556,
              "#d8576b"
             ],
             [
              0.6666666666666666,
              "#ed7953"
             ],
             [
              0.7777777777777778,
              "#fb9f3a"
             ],
             [
              0.8888888888888888,
              "#fdca26"
             ],
             [
              1,
              "#f0f921"
             ]
            ],
            "type": "surface"
           }
          ],
          "table": [
           {
            "cells": {
             "fill": {
              "color": "#EBF0F8"
             },
             "line": {
              "color": "white"
             }
            },
            "header": {
             "fill": {
              "color": "#C8D4E3"
             },
             "line": {
              "color": "white"
             }
            },
            "type": "table"
           }
          ]
         },
         "layout": {
          "annotationdefaults": {
           "arrowcolor": "#2a3f5f",
           "arrowhead": 0,
           "arrowwidth": 1
          },
          "autotypenumbers": "strict",
          "coloraxis": {
           "colorbar": {
            "outlinewidth": 0,
            "ticks": ""
           }
          },
          "colorscale": {
           "diverging": [
            [
             0,
             "#8e0152"
            ],
            [
             0.1,
             "#c51b7d"
            ],
            [
             0.2,
             "#de77ae"
            ],
            [
             0.3,
             "#f1b6da"
            ],
            [
             0.4,
             "#fde0ef"
            ],
            [
             0.5,
             "#f7f7f7"
            ],
            [
             0.6,
             "#e6f5d0"
            ],
            [
             0.7,
             "#b8e186"
            ],
            [
             0.8,
             "#7fbc41"
            ],
            [
             0.9,
             "#4d9221"
            ],
            [
             1,
             "#276419"
            ]
           ],
           "sequential": [
            [
             0,
             "#0d0887"
            ],
            [
             0.1111111111111111,
             "#46039f"
            ],
            [
             0.2222222222222222,
             "#7201a8"
            ],
            [
             0.3333333333333333,
             "#9c179e"
            ],
            [
             0.4444444444444444,
             "#bd3786"
            ],
            [
             0.5555555555555556,
             "#d8576b"
            ],
            [
             0.6666666666666666,
             "#ed7953"
            ],
            [
             0.7777777777777778,
             "#fb9f3a"
            ],
            [
             0.8888888888888888,
             "#fdca26"
            ],
            [
             1,
             "#f0f921"
            ]
           ],
           "sequentialminus": [
            [
             0,
             "#0d0887"
            ],
            [
             0.1111111111111111,
             "#46039f"
            ],
            [
             0.2222222222222222,
             "#7201a8"
            ],
            [
             0.3333333333333333,
             "#9c179e"
            ],
            [
             0.4444444444444444,
             "#bd3786"
            ],
            [
             0.5555555555555556,
             "#d8576b"
            ],
            [
             0.6666666666666666,
             "#ed7953"
            ],
            [
             0.7777777777777778,
             "#fb9f3a"
            ],
            [
             0.8888888888888888,
             "#fdca26"
            ],
            [
             1,
             "#f0f921"
            ]
           ]
          },
          "colorway": [
           "#636efa",
           "#EF553B",
           "#00cc96",
           "#ab63fa",
           "#FFA15A",
           "#19d3f3",
           "#FF6692",
           "#B6E880",
           "#FF97FF",
           "#FECB52"
          ],
          "font": {
           "color": "#2a3f5f"
          },
          "geo": {
           "bgcolor": "white",
           "lakecolor": "white",
           "landcolor": "#E5ECF6",
           "showlakes": true,
           "showland": true,
           "subunitcolor": "white"
          },
          "hoverlabel": {
           "align": "left"
          },
          "hovermode": "closest",
          "mapbox": {
           "style": "light"
          },
          "paper_bgcolor": "white",
          "plot_bgcolor": "#E5ECF6",
          "polar": {
           "angularaxis": {
            "gridcolor": "white",
            "linecolor": "white",
            "ticks": ""
           },
           "bgcolor": "#E5ECF6",
           "radialaxis": {
            "gridcolor": "white",
            "linecolor": "white",
            "ticks": ""
           }
          },
          "scene": {
           "xaxis": {
            "backgroundcolor": "#E5ECF6",
            "gridcolor": "white",
            "gridwidth": 2,
            "linecolor": "white",
            "showbackground": true,
            "ticks": "",
            "zerolinecolor": "white"
           },
           "yaxis": {
            "backgroundcolor": "#E5ECF6",
            "gridcolor": "white",
            "gridwidth": 2,
            "linecolor": "white",
            "showbackground": true,
            "ticks": "",
            "zerolinecolor": "white"
           },
           "zaxis": {
            "backgroundcolor": "#E5ECF6",
            "gridcolor": "white",
            "gridwidth": 2,
            "linecolor": "white",
            "showbackground": true,
            "ticks": "",
            "zerolinecolor": "white"
           }
          },
          "shapedefaults": {
           "line": {
            "color": "#2a3f5f"
           }
          },
          "ternary": {
           "aaxis": {
            "gridcolor": "white",
            "linecolor": "white",
            "ticks": ""
           },
           "baxis": {
            "gridcolor": "white",
            "linecolor": "white",
            "ticks": ""
           },
           "bgcolor": "#E5ECF6",
           "caxis": {
            "gridcolor": "white",
            "linecolor": "white",
            "ticks": ""
           }
          },
          "title": {
           "x": 0.05
          },
          "xaxis": {
           "automargin": true,
           "gridcolor": "white",
           "linecolor": "white",
           "ticks": "",
           "title": {
            "standoff": 15
           },
           "zerolinecolor": "white",
           "zerolinewidth": 2
          },
          "yaxis": {
           "automargin": true,
           "gridcolor": "white",
           "linecolor": "white",
           "ticks": "",
           "title": {
            "standoff": 15
           },
           "zerolinecolor": "white",
           "zerolinewidth": 2
          }
         }
        },
        "title": {
         "text": "Mandril Counts for POZO: PCH-820"
        },
        "xaxis": {
         "anchor": "y",
         "domain": [
          0,
          1
         ],
         "title": {
          "text": "Mandril #"
         }
        },
        "yaxis": {
         "anchor": "x",
         "domain": [
          0,
          1
         ],
         "title": {
          "text": "Count"
         }
        }
       }
      }
     },
     "metadata": {},
     "output_type": "display_data"
    }
   ],
   "source": [
    "import pandas as pd\n",
    "import plotly.express as px\n",
    "\n",
    "# Assuming processed_dfs is a dictionary of dataframes loaded from your Excel file\n",
    "# processed_dfs = {'Sheet1': df1, 'Sheet2': df2, ...}\n",
    "\n",
    "def select_sheet_and_pozo():\n",
    "    print(\"Select a sheet:\")\n",
    "    sheet_names = list(processed_dfs.keys())\n",
    "    for i, sheet in enumerate(sheet_names):\n",
    "        print(f\"{i + 1}. {sheet}\")\n",
    "\n",
    "    while True:\n",
    "        try:\n",
    "            sheet_index = int(input(\"Enter the number corresponding to the sheet you want to use: \")) - 1\n",
    "            if sheet_index not in range(len(sheet_names)):\n",
    "                raise ValueError\n",
    "            selected_sheet = sheet_names[sheet_index]\n",
    "            break\n",
    "        except ValueError:\n",
    "            print(\"Invalid selection. Please enter a number corresponding to one of the listed sheets.\")\n",
    "\n",
    "    selected_pozo = input(\"Enter the POZO you want to use: \")\n",
    "    return selected_sheet, selected_pozo\n",
    "\n",
    "\n",
    "def plot_mandril_counts(selected_sheet, selected_pozo):\n",
    "    # Filter dataframe for the selected POZO\n",
    "    data = processed_dfs[selected_sheet]\n",
    "    data_pozo = data[data['POZO'] == selected_pozo].copy()  # Ensure to work on a copy\n",
    "\n",
    "    if data_pozo.empty:\n",
    "        print(f\"No data found for POZO: {selected_pozo}\")\n",
    "        return\n",
    "    \n",
    "    # Filter rows with empty DeltaQ\n",
    "    data_pozo = data_pozo.dropna(subset=['DeltaQ'])\n",
    "\n",
    "    # Count Mandrils\n",
    "    mandril_counts = data_pozo.groupby('MANDRIL').size().reset_index(name='Count')\n",
    "\n",
    "    # Plot Mandril counts\n",
    "    fig = px.bar(mandril_counts, x='MANDRIL', y='Count', \n",
    "                 title=f'Mandril Counts for POZO: {selected_pozo}',\n",
    "                 labels={'MANDRIL': 'Mandril #', 'Count': 'Count'})\n",
    "\n",
    "    fig.update_layout(xaxis_title='Mandril #', yaxis_title='Count', showlegend=False)\n",
    "    fig.show()\n",
    "\n",
    "\n",
    "# Execution\n",
    "selected_sheet, selected_pozo = select_sheet_and_pozo()\n",
    "plot_mandril_counts(selected_sheet, selected_pozo)\n"
   ]
  },
  {
   "cell_type": "code",
   "execution_count": 64,
   "metadata": {},
   "outputs": [
    {
     "data": {
      "application/vnd.plotly.v1+json": {
       "config": {
        "plotlyServerURL": "https://plot.ly"
       },
       "data": [
        {
         "hoverinfo": "x+text",
         "marker": {
          "color": "blue"
         },
         "name": "DeltaQ",
         "opacity": 0.75,
         "text": [
          "FECHA: 14/10/2020<br>FECHAINIPROG: 2020-10-14 00:00:00<br>FECHAFINPROG: 2020-10-20 00:00:00<br>PROGRAMA_ID: 47425<br>INTERVENCION_ID: 18218",
          "FECHA: 14/10/2020<br>FECHAINIPROG: 2020-11-01 00:00:00<br>FECHAFINPROG: 2020-11-02 00:00:00<br>PROGRAMA_ID: 47503<br>INTERVENCION_ID: 18218",
          "FECHA: 30/12/2020<br>FECHAINIPROG: 2021-01-02 00:00:00<br>FECHAFINPROG: 2021-01-18 00:00:00<br>PROGRAMA_ID: 48298<br>INTERVENCION_ID: 18524",
          "FECHA: 30/12/2020<br>FECHAINIPROG: 2021-01-19 00:00:00<br>FECHAFINPROG: 2021-01-19 00:00:00<br>PROGRAMA_ID: 48546<br>INTERVENCION_ID: 18524",
          "FECHA: 13/07/2021<br>FECHAINIPROG: 2021-07-14 00:00:00<br>FECHAFINPROG: 2021-07-24 00:00:00<br>PROGRAMA_ID: 52194<br>INTERVENCION_ID: 19872",
          "FECHA: 24/07/2021<br>FECHAINIPROG: 2021-07-24 00:00:00<br>FECHAFINPROG: 2021-07-26 00:00:00<br>PROGRAMA_ID: 52475<br>INTERVENCION_ID: 19943",
          "FECHA: 02/09/2021<br>FECHAINIPROG: 2021-09-03 00:00:00<br>FECHAFINPROG: 2021-09-10 00:00:00<br>PROGRAMA_ID: 53514<br>INTERVENCION_ID: 20271",
          "FECHA: 28/09/2022<br>FECHAINIPROG: 2022-10-06 00:00:00<br>FECHAFINPROG: 2022-10-07 00:00:00<br>PROGRAMA_ID: 63316<br>INTERVENCION_ID: 23729",
          "FECHA: 30/12/2022<br>FECHAINIPROG: 2023-01-16 00:00:00<br>FECHAFINPROG: 2023-01-17 00:00:00<br>PROGRAMA_ID: 65883<br>INTERVENCION_ID: 24522",
          "FECHA: 24/02/2023<br>FECHAINIPROG: 2023-04-06 00:00:00<br>FECHAFINPROG: 2023-04-18 00:00:00<br>PROGRAMA_ID: 66829<br>INTERVENCION_ID: 25087",
          "FECHA: 26/10/2023<br>FECHAINIPROG: 2023-10-28 00:00:00<br>FECHAFINPROG: 2023-10-30 00:00:00<br>PROGRAMA_ID: 72893<br>INTERVENCION_ID: 27258",
          "FECHA: 31/10/2023<br>FECHAINIPROG: 2023-11-07 00:00:00<br>FECHAFINPROG: 2023-11-08 00:00:00<br>PROGRAMA_ID: 73180<br>INTERVENCION_ID: 27299",
          "FECHA: 28/11/2023<br>FECHAINIPROG: 2023-12-12 00:00:00<br>FECHAFINPROG: 2023-12-14 00:00:00<br>PROGRAMA_ID: 74004<br>INTERVENCION_ID: 27641",
          "FECHA: 10/04/2024<br>FECHAINIPROG: 2024-05-15 00:00:00<br>FECHAFINPROG: 2024-05-29 00:00:00<br>PROGRAMA_ID: 76911<br>INTERVENCION_ID: 28919",
          "FECHA: 31/05/2024<br>FECHAINIPROG: 2024-06-06 00:00:00<br>FECHAFINPROG: 2024-06-07 00:00:00<br>PROGRAMA_ID: 78260<br>INTERVENCION_ID: 29410",
          "FECHA: 31/05/2024<br>FECHAINIPROG: 2024-06-08 00:00:00<br>FECHAFINPROG: 2024-06-08 00:00:00<br>PROGRAMA_ID: 78289<br>INTERVENCION_ID: 29410"
         ],
         "type": "bar",
         "x": [
          "2020-10-14T00:00:00",
          "2020-10-14T00:00:00",
          "2020-12-30T00:00:00",
          "2020-12-30T00:00:00",
          "2021-07-13T00:00:00",
          "2021-07-24T00:00:00",
          "2021-09-02T00:00:00",
          "2022-09-28T00:00:00",
          "2022-12-30T00:00:00",
          "2023-02-24T00:00:00",
          "2023-10-26T00:00:00",
          "2023-10-31T00:00:00",
          "2023-11-28T00:00:00",
          "2024-04-10T00:00:00",
          "2024-05-31T00:00:00",
          "2024-05-31T00:00:00"
         ],
         "y": [
          0,
          -5,
          28,
          -1,
          -134,
          378,
          0,
          11,
          1,
          20,
          7,
          6,
          3,
          200,
          34,
          -3
         ]
        },
        {
         "hoverinfo": "x+text",
         "marker": {
          "color": "orange"
         },
         "name": "DeltaP",
         "opacity": 0.75,
         "text": [
          "FECHA: 14/10/2020<br>FECHAINIPROG: 2020-10-14 00:00:00<br>FECHAFINPROG: 2020-10-20 00:00:00<br>PROGRAMA_ID: 47425<br>INTERVENCION_ID: 18218",
          "FECHA: 14/10/2020<br>FECHAINIPROG: 2020-11-01 00:00:00<br>FECHAFINPROG: 2020-11-02 00:00:00<br>PROGRAMA_ID: 47503<br>INTERVENCION_ID: 18218",
          "FECHA: 30/12/2020<br>FECHAINIPROG: 2021-01-02 00:00:00<br>FECHAFINPROG: 2021-01-18 00:00:00<br>PROGRAMA_ID: 48298<br>INTERVENCION_ID: 18524",
          "FECHA: 30/12/2020<br>FECHAINIPROG: 2021-01-19 00:00:00<br>FECHAFINPROG: 2021-01-19 00:00:00<br>PROGRAMA_ID: 48546<br>INTERVENCION_ID: 18524",
          "FECHA: 13/07/2021<br>FECHAINIPROG: 2021-07-14 00:00:00<br>FECHAFINPROG: 2021-07-24 00:00:00<br>PROGRAMA_ID: 52194<br>INTERVENCION_ID: 19872",
          "FECHA: 24/07/2021<br>FECHAINIPROG: 2021-07-24 00:00:00<br>FECHAFINPROG: 2021-07-26 00:00:00<br>PROGRAMA_ID: 52475<br>INTERVENCION_ID: 19943",
          "FECHA: 02/09/2021<br>FECHAINIPROG: 2021-09-03 00:00:00<br>FECHAFINPROG: 2021-09-10 00:00:00<br>PROGRAMA_ID: 53514<br>INTERVENCION_ID: 20271",
          "FECHA: 28/09/2022<br>FECHAINIPROG: 2022-10-06 00:00:00<br>FECHAFINPROG: 2022-10-07 00:00:00<br>PROGRAMA_ID: 63316<br>INTERVENCION_ID: 23729",
          "FECHA: 30/12/2022<br>FECHAINIPROG: 2023-01-16 00:00:00<br>FECHAFINPROG: 2023-01-17 00:00:00<br>PROGRAMA_ID: 65883<br>INTERVENCION_ID: 24522",
          "FECHA: 24/02/2023<br>FECHAINIPROG: 2023-04-06 00:00:00<br>FECHAFINPROG: 2023-04-18 00:00:00<br>PROGRAMA_ID: 66829<br>INTERVENCION_ID: 25087",
          "FECHA: 26/10/2023<br>FECHAINIPROG: 2023-10-28 00:00:00<br>FECHAFINPROG: 2023-10-30 00:00:00<br>PROGRAMA_ID: 72893<br>INTERVENCION_ID: 27258",
          "FECHA: 31/10/2023<br>FECHAINIPROG: 2023-11-07 00:00:00<br>FECHAFINPROG: 2023-11-08 00:00:00<br>PROGRAMA_ID: 73180<br>INTERVENCION_ID: 27299",
          "FECHA: 28/11/2023<br>FECHAINIPROG: 2023-12-12 00:00:00<br>FECHAFINPROG: 2023-12-14 00:00:00<br>PROGRAMA_ID: 74004<br>INTERVENCION_ID: 27641",
          "FECHA: 10/04/2024<br>FECHAINIPROG: 2024-05-15 00:00:00<br>FECHAFINPROG: 2024-05-29 00:00:00<br>PROGRAMA_ID: 76911<br>INTERVENCION_ID: 28919",
          "FECHA: 31/05/2024<br>FECHAINIPROG: 2024-06-06 00:00:00<br>FECHAFINPROG: 2024-06-07 00:00:00<br>PROGRAMA_ID: 78260<br>INTERVENCION_ID: 29410",
          "FECHA: 31/05/2024<br>FECHAINIPROG: 2024-06-08 00:00:00<br>FECHAFINPROG: 2024-06-08 00:00:00<br>PROGRAMA_ID: 78289<br>INTERVENCION_ID: 29410"
         ],
         "type": "bar",
         "x": [
          "2020-10-14T00:00:00",
          "2020-10-14T00:00:00",
          "2020-12-30T00:00:00",
          "2020-12-30T00:00:00",
          "2021-07-13T00:00:00",
          "2021-07-24T00:00:00",
          "2021-09-02T00:00:00",
          "2022-09-28T00:00:00",
          "2022-12-30T00:00:00",
          "2023-02-24T00:00:00",
          "2023-10-26T00:00:00",
          "2023-10-31T00:00:00",
          "2023-11-28T00:00:00",
          "2024-04-10T00:00:00",
          "2024-05-31T00:00:00",
          "2024-05-31T00:00:00"
         ],
         "y": [
          -5,
          0,
          0,
          0,
          0,
          166,
          0,
          0,
          0,
          0,
          0,
          0,
          0,
          5,
          -5,
          0
         ]
        }
       ],
       "layout": {
        "annotations": [
         {
          "align": "left",
          "bgcolor": "white",
          "bordercolor": "black",
          "borderwidth": 1,
          "showarrow": false,
          "text": "Avg DeltaQ: 34.06",
          "x": 0.5,
          "xref": "paper",
          "y": 1.1,
          "yref": "paper"
         },
         {
          "align": "left",
          "bgcolor": "white",
          "bordercolor": "black",
          "borderwidth": 1,
          "showarrow": false,
          "text": "Avg DeltaP: 10.06",
          "x": 1,
          "xref": "paper",
          "y": 1.1,
          "yref": "paper"
         }
        ],
        "bargap": 0.1,
        "bargroupgap": 0.1,
        "barmode": "group",
        "height": 600,
        "margin": {
         "b": 50,
         "l": 50,
         "r": 50,
         "t": 80
        },
        "showlegend": true,
        "template": {
         "data": {
          "bar": [
           {
            "error_x": {
             "color": "#2a3f5f"
            },
            "error_y": {
             "color": "#2a3f5f"
            },
            "marker": {
             "line": {
              "color": "#E5ECF6",
              "width": 0.5
             },
             "pattern": {
              "fillmode": "overlay",
              "size": 10,
              "solidity": 0.2
             }
            },
            "type": "bar"
           }
          ],
          "barpolar": [
           {
            "marker": {
             "line": {
              "color": "#E5ECF6",
              "width": 0.5
             },
             "pattern": {
              "fillmode": "overlay",
              "size": 10,
              "solidity": 0.2
             }
            },
            "type": "barpolar"
           }
          ],
          "carpet": [
           {
            "aaxis": {
             "endlinecolor": "#2a3f5f",
             "gridcolor": "white",
             "linecolor": "white",
             "minorgridcolor": "white",
             "startlinecolor": "#2a3f5f"
            },
            "baxis": {
             "endlinecolor": "#2a3f5f",
             "gridcolor": "white",
             "linecolor": "white",
             "minorgridcolor": "white",
             "startlinecolor": "#2a3f5f"
            },
            "type": "carpet"
           }
          ],
          "choropleth": [
           {
            "colorbar": {
             "outlinewidth": 0,
             "ticks": ""
            },
            "type": "choropleth"
           }
          ],
          "contour": [
           {
            "colorbar": {
             "outlinewidth": 0,
             "ticks": ""
            },
            "colorscale": [
             [
              0,
              "#0d0887"
             ],
             [
              0.1111111111111111,
              "#46039f"
             ],
             [
              0.2222222222222222,
              "#7201a8"
             ],
             [
              0.3333333333333333,
              "#9c179e"
             ],
             [
              0.4444444444444444,
              "#bd3786"
             ],
             [
              0.5555555555555556,
              "#d8576b"
             ],
             [
              0.6666666666666666,
              "#ed7953"
             ],
             [
              0.7777777777777778,
              "#fb9f3a"
             ],
             [
              0.8888888888888888,
              "#fdca26"
             ],
             [
              1,
              "#f0f921"
             ]
            ],
            "type": "contour"
           }
          ],
          "contourcarpet": [
           {
            "colorbar": {
             "outlinewidth": 0,
             "ticks": ""
            },
            "type": "contourcarpet"
           }
          ],
          "heatmap": [
           {
            "colorbar": {
             "outlinewidth": 0,
             "ticks": ""
            },
            "colorscale": [
             [
              0,
              "#0d0887"
             ],
             [
              0.1111111111111111,
              "#46039f"
             ],
             [
              0.2222222222222222,
              "#7201a8"
             ],
             [
              0.3333333333333333,
              "#9c179e"
             ],
             [
              0.4444444444444444,
              "#bd3786"
             ],
             [
              0.5555555555555556,
              "#d8576b"
             ],
             [
              0.6666666666666666,
              "#ed7953"
             ],
             [
              0.7777777777777778,
              "#fb9f3a"
             ],
             [
              0.8888888888888888,
              "#fdca26"
             ],
             [
              1,
              "#f0f921"
             ]
            ],
            "type": "heatmap"
           }
          ],
          "heatmapgl": [
           {
            "colorbar": {
             "outlinewidth": 0,
             "ticks": ""
            },
            "colorscale": [
             [
              0,
              "#0d0887"
             ],
             [
              0.1111111111111111,
              "#46039f"
             ],
             [
              0.2222222222222222,
              "#7201a8"
             ],
             [
              0.3333333333333333,
              "#9c179e"
             ],
             [
              0.4444444444444444,
              "#bd3786"
             ],
             [
              0.5555555555555556,
              "#d8576b"
             ],
             [
              0.6666666666666666,
              "#ed7953"
             ],
             [
              0.7777777777777778,
              "#fb9f3a"
             ],
             [
              0.8888888888888888,
              "#fdca26"
             ],
             [
              1,
              "#f0f921"
             ]
            ],
            "type": "heatmapgl"
           }
          ],
          "histogram": [
           {
            "marker": {
             "pattern": {
              "fillmode": "overlay",
              "size": 10,
              "solidity": 0.2
             }
            },
            "type": "histogram"
           }
          ],
          "histogram2d": [
           {
            "colorbar": {
             "outlinewidth": 0,
             "ticks": ""
            },
            "colorscale": [
             [
              0,
              "#0d0887"
             ],
             [
              0.1111111111111111,
              "#46039f"
             ],
             [
              0.2222222222222222,
              "#7201a8"
             ],
             [
              0.3333333333333333,
              "#9c179e"
             ],
             [
              0.4444444444444444,
              "#bd3786"
             ],
             [
              0.5555555555555556,
              "#d8576b"
             ],
             [
              0.6666666666666666,
              "#ed7953"
             ],
             [
              0.7777777777777778,
              "#fb9f3a"
             ],
             [
              0.8888888888888888,
              "#fdca26"
             ],
             [
              1,
              "#f0f921"
             ]
            ],
            "type": "histogram2d"
           }
          ],
          "histogram2dcontour": [
           {
            "colorbar": {
             "outlinewidth": 0,
             "ticks": ""
            },
            "colorscale": [
             [
              0,
              "#0d0887"
             ],
             [
              0.1111111111111111,
              "#46039f"
             ],
             [
              0.2222222222222222,
              "#7201a8"
             ],
             [
              0.3333333333333333,
              "#9c179e"
             ],
             [
              0.4444444444444444,
              "#bd3786"
             ],
             [
              0.5555555555555556,
              "#d8576b"
             ],
             [
              0.6666666666666666,
              "#ed7953"
             ],
             [
              0.7777777777777778,
              "#fb9f3a"
             ],
             [
              0.8888888888888888,
              "#fdca26"
             ],
             [
              1,
              "#f0f921"
             ]
            ],
            "type": "histogram2dcontour"
           }
          ],
          "mesh3d": [
           {
            "colorbar": {
             "outlinewidth": 0,
             "ticks": ""
            },
            "type": "mesh3d"
           }
          ],
          "parcoords": [
           {
            "line": {
             "colorbar": {
              "outlinewidth": 0,
              "ticks": ""
             }
            },
            "type": "parcoords"
           }
          ],
          "pie": [
           {
            "automargin": true,
            "type": "pie"
           }
          ],
          "scatter": [
           {
            "fillpattern": {
             "fillmode": "overlay",
             "size": 10,
             "solidity": 0.2
            },
            "type": "scatter"
           }
          ],
          "scatter3d": [
           {
            "line": {
             "colorbar": {
              "outlinewidth": 0,
              "ticks": ""
             }
            },
            "marker": {
             "colorbar": {
              "outlinewidth": 0,
              "ticks": ""
             }
            },
            "type": "scatter3d"
           }
          ],
          "scattercarpet": [
           {
            "marker": {
             "colorbar": {
              "outlinewidth": 0,
              "ticks": ""
             }
            },
            "type": "scattercarpet"
           }
          ],
          "scattergeo": [
           {
            "marker": {
             "colorbar": {
              "outlinewidth": 0,
              "ticks": ""
             }
            },
            "type": "scattergeo"
           }
          ],
          "scattergl": [
           {
            "marker": {
             "colorbar": {
              "outlinewidth": 0,
              "ticks": ""
             }
            },
            "type": "scattergl"
           }
          ],
          "scattermapbox": [
           {
            "marker": {
             "colorbar": {
              "outlinewidth": 0,
              "ticks": ""
             }
            },
            "type": "scattermapbox"
           }
          ],
          "scatterpolar": [
           {
            "marker": {
             "colorbar": {
              "outlinewidth": 0,
              "ticks": ""
             }
            },
            "type": "scatterpolar"
           }
          ],
          "scatterpolargl": [
           {
            "marker": {
             "colorbar": {
              "outlinewidth": 0,
              "ticks": ""
             }
            },
            "type": "scatterpolargl"
           }
          ],
          "scatterternary": [
           {
            "marker": {
             "colorbar": {
              "outlinewidth": 0,
              "ticks": ""
             }
            },
            "type": "scatterternary"
           }
          ],
          "surface": [
           {
            "colorbar": {
             "outlinewidth": 0,
             "ticks": ""
            },
            "colorscale": [
             [
              0,
              "#0d0887"
             ],
             [
              0.1111111111111111,
              "#46039f"
             ],
             [
              0.2222222222222222,
              "#7201a8"
             ],
             [
              0.3333333333333333,
              "#9c179e"
             ],
             [
              0.4444444444444444,
              "#bd3786"
             ],
             [
              0.5555555555555556,
              "#d8576b"
             ],
             [
              0.6666666666666666,
              "#ed7953"
             ],
             [
              0.7777777777777778,
              "#fb9f3a"
             ],
             [
              0.8888888888888888,
              "#fdca26"
             ],
             [
              1,
              "#f0f921"
             ]
            ],
            "type": "surface"
           }
          ],
          "table": [
           {
            "cells": {
             "fill": {
              "color": "#EBF0F8"
             },
             "line": {
              "color": "white"
             }
            },
            "header": {
             "fill": {
              "color": "#C8D4E3"
             },
             "line": {
              "color": "white"
             }
            },
            "type": "table"
           }
          ]
         },
         "layout": {
          "annotationdefaults": {
           "arrowcolor": "#2a3f5f",
           "arrowhead": 0,
           "arrowwidth": 1
          },
          "autotypenumbers": "strict",
          "coloraxis": {
           "colorbar": {
            "outlinewidth": 0,
            "ticks": ""
           }
          },
          "colorscale": {
           "diverging": [
            [
             0,
             "#8e0152"
            ],
            [
             0.1,
             "#c51b7d"
            ],
            [
             0.2,
             "#de77ae"
            ],
            [
             0.3,
             "#f1b6da"
            ],
            [
             0.4,
             "#fde0ef"
            ],
            [
             0.5,
             "#f7f7f7"
            ],
            [
             0.6,
             "#e6f5d0"
            ],
            [
             0.7,
             "#b8e186"
            ],
            [
             0.8,
             "#7fbc41"
            ],
            [
             0.9,
             "#4d9221"
            ],
            [
             1,
             "#276419"
            ]
           ],
           "sequential": [
            [
             0,
             "#0d0887"
            ],
            [
             0.1111111111111111,
             "#46039f"
            ],
            [
             0.2222222222222222,
             "#7201a8"
            ],
            [
             0.3333333333333333,
             "#9c179e"
            ],
            [
             0.4444444444444444,
             "#bd3786"
            ],
            [
             0.5555555555555556,
             "#d8576b"
            ],
            [
             0.6666666666666666,
             "#ed7953"
            ],
            [
             0.7777777777777778,
             "#fb9f3a"
            ],
            [
             0.8888888888888888,
             "#fdca26"
            ],
            [
             1,
             "#f0f921"
            ]
           ],
           "sequentialminus": [
            [
             0,
             "#0d0887"
            ],
            [
             0.1111111111111111,
             "#46039f"
            ],
            [
             0.2222222222222222,
             "#7201a8"
            ],
            [
             0.3333333333333333,
             "#9c179e"
            ],
            [
             0.4444444444444444,
             "#bd3786"
            ],
            [
             0.5555555555555556,
             "#d8576b"
            ],
            [
             0.6666666666666666,
             "#ed7953"
            ],
            [
             0.7777777777777778,
             "#fb9f3a"
            ],
            [
             0.8888888888888888,
             "#fdca26"
            ],
            [
             1,
             "#f0f921"
            ]
           ]
          },
          "colorway": [
           "#636efa",
           "#EF553B",
           "#00cc96",
           "#ab63fa",
           "#FFA15A",
           "#19d3f3",
           "#FF6692",
           "#B6E880",
           "#FF97FF",
           "#FECB52"
          ],
          "font": {
           "color": "#2a3f5f"
          },
          "geo": {
           "bgcolor": "white",
           "lakecolor": "white",
           "landcolor": "#E5ECF6",
           "showlakes": true,
           "showland": true,
           "subunitcolor": "white"
          },
          "hoverlabel": {
           "align": "left"
          },
          "hovermode": "closest",
          "mapbox": {
           "style": "light"
          },
          "paper_bgcolor": "white",
          "plot_bgcolor": "#E5ECF6",
          "polar": {
           "angularaxis": {
            "gridcolor": "white",
            "linecolor": "white",
            "ticks": ""
           },
           "bgcolor": "#E5ECF6",
           "radialaxis": {
            "gridcolor": "white",
            "linecolor": "white",
            "ticks": ""
           }
          },
          "scene": {
           "xaxis": {
            "backgroundcolor": "#E5ECF6",
            "gridcolor": "white",
            "gridwidth": 2,
            "linecolor": "white",
            "showbackground": true,
            "ticks": "",
            "zerolinecolor": "white"
           },
           "yaxis": {
            "backgroundcolor": "#E5ECF6",
            "gridcolor": "white",
            "gridwidth": 2,
            "linecolor": "white",
            "showbackground": true,
            "ticks": "",
            "zerolinecolor": "white"
           },
           "zaxis": {
            "backgroundcolor": "#E5ECF6",
            "gridcolor": "white",
            "gridwidth": 2,
            "linecolor": "white",
            "showbackground": true,
            "ticks": "",
            "zerolinecolor": "white"
           }
          },
          "shapedefaults": {
           "line": {
            "color": "#2a3f5f"
           }
          },
          "ternary": {
           "aaxis": {
            "gridcolor": "white",
            "linecolor": "white",
            "ticks": ""
           },
           "baxis": {
            "gridcolor": "white",
            "linecolor": "white",
            "ticks": ""
           },
           "bgcolor": "#E5ECF6",
           "caxis": {
            "gridcolor": "white",
            "linecolor": "white",
            "ticks": ""
           }
          },
          "title": {
           "x": 0.05
          },
          "xaxis": {
           "automargin": true,
           "gridcolor": "white",
           "linecolor": "white",
           "ticks": "",
           "title": {
            "standoff": 15
           },
           "zerolinecolor": "white",
           "zerolinewidth": 2
          },
          "yaxis": {
           "automargin": true,
           "gridcolor": "white",
           "linecolor": "white",
           "ticks": "",
           "title": {
            "standoff": 15
           },
           "zerolinecolor": "white",
           "zerolinewidth": 2
          }
         }
        },
        "title": {
         "text": "Distribution of DeltaQ and DeltaP for MANDRIL 1 in POZO PCH-820"
        },
        "xaxis": {
         "title": {
          "text": "FECHA"
         },
         "type": "category"
        },
        "yaxis": {
         "title": {
          "text": "Value"
         }
        }
       }
      }
     },
     "metadata": {},
     "output_type": "display_data"
    }
   ],
   "source": [
    "import pandas as pd\n",
    "import plotly.graph_objects as go\n",
    "\n",
    "# Assuming processed_dfs is defined as in your previous scripts\n",
    "# processed_dfs = {'Sheet1': df1, 'Sheet2': df2, ...}\n",
    "\n",
    "def select_mandril_to_plot(df, selected_pozo):\n",
    "    mandril_counts = df[df['POZO'] == selected_pozo]['MANDRIL'].unique()\n",
    "\n",
    "    while True:\n",
    "        try:\n",
    "            selected_mandril = int(input(\"Enter the MANDRIL number you want to plot: \"))\n",
    "            if selected_mandril not in mandril_counts:\n",
    "                raise ValueError\n",
    "            break\n",
    "        except ValueError:\n",
    "            print(\"Invalid selection. Please enter a valid MANDRIL number.\")\n",
    "\n",
    "    return selected_mandril\n",
    "\n",
    "\n",
    "def aggregate_data_for_mandril(df, selected_pozo, selected_mandril):\n",
    "    # Filter data for selected POZO and Mandril\n",
    "    data_selected = df[(df['POZO'] == selected_pozo) & (df['MANDRIL'] == selected_mandril)].copy()\n",
    "\n",
    "    if data_selected.empty:\n",
    "        raise ValueError(f\"No data found for MANDRIL {selected_mandril} in POZO {selected_pozo}\")\n",
    "\n",
    "    # Calculate DeltaQ and DeltaP\n",
    "    data_selected['DeltaQ'] = data_selected['Pesca Valvula con Resultado / Positivo_QPOZO'] - data_selected['Coloca Valvula con Resultado / Positivo_QPOZO']\n",
    "    data_selected['DeltaP'] = data_selected['Pesca Valvula con Resultado / Positivo_PPOZO'] - data_selected['Coloca Valvula con Resultado / Positivo_PPOZO']\n",
    "\n",
    "    # Calculate averages\n",
    "    avg_deltaq = data_selected['DeltaQ'].mean()\n",
    "    avg_deltap = data_selected['DeltaP'].mean()\n",
    "\n",
    "    # Sort data by FECHA (date)\n",
    "    data_selected = data_selected.sort_values(by='FECHA')\n",
    "\n",
    "    return data_selected, avg_deltaq, avg_deltap\n",
    "\n",
    "\n",
    "def plot_histogram(selected_sheet, selected_pozo, selected_mandril):\n",
    "    # Aggregate data for the selected POZO and Mandril\n",
    "    data_selected, avg_deltaq, avg_deltap = aggregate_data_for_mandril(processed_dfs[selected_sheet], selected_pozo, selected_mandril)\n",
    "\n",
    "    # Create figure for histogram\n",
    "    fig = go.Figure()\n",
    "\n",
    "    # Add bar for DeltaQ\n",
    "    fig.add_trace(go.Bar(\n",
    "        x=data_selected['FECHA'],\n",
    "        y=data_selected['DeltaQ'],\n",
    "        name='DeltaQ',\n",
    "        marker_color='blue',\n",
    "        opacity=0.75,\n",
    "        hoverinfo='x+text',\n",
    "        text=data_selected.apply(lambda row: f\"FECHA: {row['FECHA'].strftime('%d/%m/%Y')}<br>FECHAINIPROG: {row['FECHAINIPROG']}<br>FECHAFINPROG: {row['FECHAFINPROG']}<br>PROGRAMA_ID: {row['PROGRAMA_ID']}<br>INTERVENCION_ID: {row['INTERVENCION_ID']}\", axis=1)\n",
    "    ))\n",
    "\n",
    "    # Add bar for DeltaP\n",
    "    fig.add_trace(go.Bar(\n",
    "        x=data_selected['FECHA'],\n",
    "        y=data_selected['DeltaP'],\n",
    "        name='DeltaP',\n",
    "        marker_color='orange',\n",
    "        opacity=0.75,\n",
    "        hoverinfo='x+text',\n",
    "        text=data_selected.apply(lambda row: f\"FECHA: {row['FECHA'].strftime('%d/%m/%Y')}<br>FECHAINIPROG: {row['FECHAINIPROG']}<br>FECHAFINPROG: {row['FECHAFINPROG']}<br>PROGRAMA_ID: {row['PROGRAMA_ID']}<br>INTERVENCION_ID: {row['INTERVENCION_ID']}\", axis=1)\n",
    "    ))\n",
    "\n",
    "    fig.update_layout(\n",
    "        title=f'Distribution of DeltaQ and DeltaP for MANDRIL {selected_mandril} in POZO {selected_pozo}',\n",
    "        xaxis_title='FECHA',\n",
    "        yaxis_title='Value',\n",
    "        showlegend=True,\n",
    "        height=600,\n",
    "        barmode='group',  # Group bars for DeltaQ and DeltaP\n",
    "        bargap=0.1,  # Gap between bars\n",
    "        bargroupgap=0.1,  # Gap between groups of bars\n",
    "        margin=dict(l=50, r=50, t=80, b=50),  # Adjust margins for better layout\n",
    "        xaxis=dict(type='category')  # Use category axis for FECHA\n",
    "    )\n",
    "\n",
    "    # Add annotations for average DeltaQ and DeltaP\n",
    "    fig.add_annotation(\n",
    "        xref=\"paper\", yref=\"paper\",\n",
    "        x=0.5, y=1.1,\n",
    "        text=f\"Avg DeltaQ: {avg_deltaq:.2f}\",\n",
    "        showarrow=False,\n",
    "        align=\"left\",\n",
    "        bgcolor=\"white\",\n",
    "        bordercolor=\"black\",\n",
    "        borderwidth=1\n",
    "    )\n",
    "\n",
    "    fig.add_annotation(\n",
    "        xref=\"paper\", yref=\"paper\",\n",
    "        x=1.0, y=1.1,\n",
    "        text=f\"Avg DeltaP: {avg_deltap:.2f}\",\n",
    "        showarrow=False,\n",
    "        align=\"left\",\n",
    "        bgcolor=\"white\",\n",
    "        bordercolor=\"black\",\n",
    "        borderwidth=1\n",
    "    )\n",
    "\n",
    "    fig.show()\n",
    "\n",
    "# Example of usage:\n",
    "#selected_sheet = 'Sheet1'  # Replace with your selected sheet\n",
    "#selected_pozo = 'POZO1'    # Replace with your selected POZO\n",
    "selected_mandril = select_mandril_to_plot(processed_dfs[selected_sheet], selected_pozo)\n",
    "\n",
    "plot_histogram(selected_sheet, selected_pozo, selected_mandril)\n"
   ]
  },
  {
   "cell_type": "markdown",
   "metadata": {},
   "source": []
  }
 ],
 "metadata": {
  "kernelspec": {
   "display_name": "Python 3",
   "language": "python",
   "name": "python3"
  },
  "language_info": {
   "codemirror_mode": {
    "name": "ipython",
    "version": 3
   },
   "file_extension": ".py",
   "mimetype": "text/x-python",
   "name": "python",
   "nbconvert_exporter": "python",
   "pygments_lexer": "ipython3",
   "version": "3.12.4"
  }
 },
 "nbformat": 4,
 "nbformat_minor": 2
}
